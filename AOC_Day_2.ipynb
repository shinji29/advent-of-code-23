{
 "cells": [
  {
   "cell_type": "markdown",
   "id": "fc985b1c",
   "metadata": {},
   "source": [
    "### [Problem Link](https://adventofcode.com/2023/day/2)\n",
    " > Solved on **Jan 2, 2024**"
   ]
  },
  {
   "cell_type": "markdown",
   "id": "7e1a9aee",
   "metadata": {},
   "source": [
    "### Input data"
   ]
  },
  {
   "cell_type": "code",
   "execution_count": 4,
   "id": "f77ff9a2",
   "metadata": {},
   "outputs": [
    {
     "data": {
      "text/plain": [
       "'Game 1: 1 green, 1 blue, 1 red; 1 green, 8 red, 7 blue; 6 blue, 10 red; 4 red, 9 blue, 2 green; 1 green, 3 blue; 4 red, 1 green, 10 blue'"
      ]
     },
     "execution_count": 4,
     "metadata": {},
     "output_type": "execute_result"
    }
   ],
   "source": [
    "with open('Inputs/day2.txt') as f:\n",
    "    data = f.read().strip().split('\\n')\n",
    "data[0]"
   ]
  },
  {
   "cell_type": "markdown",
   "id": "7db2dbc3",
   "metadata": {},
   "source": [
    "### Explaining the approach ..."
   ]
  },
  {
   "cell_type": "code",
   "execution_count": 14,
   "id": "830c7793",
   "metadata": {},
   "outputs": [
    {
     "data": {
      "text/plain": [
       "'1 blue, 13 green, 14 red; 11 green, 11 blue, 7 red; 2 red, 1 blue, 2 green; 10 blue, 15 red'"
      ]
     },
     "execution_count": 14,
     "metadata": {},
     "output_type": "execute_result"
    }
   ],
   "source": [
    "for i, x in enumerate(data):\n",
    "    y = x[x.find(\": \") + 2:]\n",
    "y"
   ]
  },
  {
   "cell_type": "code",
   "execution_count": 9,
   "id": "0ee5bc39",
   "metadata": {},
   "outputs": [
    {
     "data": {
      "text/plain": [
       "['1 blue, 13 green, 14 red',\n",
       " '11 green, 11 blue, 7 red',\n",
       " '2 red, 1 blue, 2 green',\n",
       " '10 blue, 15 red']"
      ]
     },
     "execution_count": 9,
     "metadata": {},
     "output_type": "execute_result"
    }
   ],
   "source": [
    "z = y.split(\"; \")\n",
    "z"
   ]
  },
  {
   "cell_type": "code",
   "execution_count": 13,
   "id": "e5ffeb58",
   "metadata": {},
   "outputs": [
    {
     "data": {
      "text/plain": [
       "['10 blue', '15 red']"
      ]
     },
     "execution_count": 13,
     "metadata": {},
     "output_type": "execute_result"
    }
   ],
   "source": [
    "for w in z:\n",
    "    v = w.split(\", \")\n",
    "v"
   ]
  },
  {
   "cell_type": "code",
   "execution_count": 17,
   "id": "5cd1cc91",
   "metadata": {},
   "outputs": [
    {
     "data": {
      "text/plain": [
       "('15', 'red')"
      ]
     },
     "execution_count": 17,
     "metadata": {},
     "output_type": "execute_result"
    }
   ],
   "source": [
    "for u in v:\n",
    "    val, key = u.split(\" \")\n",
    "(val, key)"
   ]
  },
  {
   "cell_type": "code",
   "execution_count": 20,
   "id": "431ffd42",
   "metadata": {
    "scrolled": true
   },
   "outputs": [
    {
     "name": "stdout",
     "output_type": "stream",
     "text": [
      "Game #1  >>  [['1 green', '1 blue', '1 red'], ['1 green', '8 red', '7 blue'], ['6 blue', '10 red'], ['4 red', '9 blue', '2 green'], ['1 green', '3 blue'], ['4 red', '1 green', '10 blue']]\n",
      "\n",
      "Game #2  >>  [['9 red', '7 green', '3 blue'], ['15 green', '2 blue', '5 red'], ['10 red', '3 blue', '13 green']]\n",
      "\n",
      "Game #3  >>  [['3 red', '1 blue', '4 green'], ['6 red', '3 green', '2 blue'], ['6 red', '16 blue', '1 green']]\n",
      "\n",
      "Game #4  >>  [['2 blue', '2 green', '19 red'], ['3 blue', '11 red', '16 green'], ['18 blue', '13 green', '20 red'], ['18 red', '12 blue', '16 green'], ['8 green', '16 blue', '16 red']]\n",
      "\n",
      "Game #5  >>  [['8 green', '1 red', '12 blue'], ['10 green', '6 red', '13 blue'], ['1 red', '3 blue', '6 green'], ['14 blue', '2 red', '7 green']]\n",
      "\n",
      "Game #6  >>  [['1 red'], ['1 blue'], ['2 green', '1 blue'], ['1 red', '3 blue'], ['1 red', '2 blue', '2 green'], ['1 green', '7 blue', '1 red']]\n",
      "\n",
      "Game #7  >>  [['2 red', '1 blue', '5 green'], ['5 green', '1 red'], ['3 red', '7 blue'], ['8 blue', '1 red', '4 green']]\n",
      "\n",
      "Game #8  >>  [['6 green', '4 blue'], ['10 green', '7 blue'], ['5 blue'], ['1 red', '7 blue'], ['11 green', '1 red']]\n",
      "\n",
      "Game #9  >>  [['2 green', '2 blue'], ['8 red', '5 blue', '6 green'], ['11 green', '6 blue', '8 red'], ['4 blue', '3 green', '8 red'], ['2 green', '10 red', '5 blue']]\n",
      "\n",
      "Game #10  >>  [['2 blue', '8 green', '2 red'], ['10 blue', '3 green'], ['12 blue', '1 green', '2 red'], ['9 green', '2 red'], ['3 green', '2 red', '5 blue']]\n",
      "\n",
      "Game #11  >>  [['12 red', '1 green', '1 blue'], ['7 green', '1 red'], ['2 blue', '1 red', '3 green'], ['15 green', '8 red']]\n",
      "\n",
      "Game #12  >>  [['4 red', '10 green', '4 blue'], ['3 red', '10 blue', '18 green'], ['5 red', '2 blue', '18 green'], ['8 blue', '16 green', '2 red']]\n",
      "\n",
      "Game #13  >>  [['3 green', '1 blue', '8 red'], ['8 blue', '2 green', '6 red'], ['6 blue', '3 green', '11 red'], ['2 red', '13 blue'], ['1 blue', '5 red', '2 green'], ['6 red']]\n",
      "\n",
      "Game #14  >>  [['3 blue', '15 green', '10 red'], ['7 green', '6 red', '6 blue'], ['8 red', '13 green', '4 blue'], ['4 green', '1 blue', '9 red'], ['9 red', '7 blue']]\n",
      "\n",
      "Game #15  >>  [['8 green', '9 blue', '4 red'], ['8 blue', '4 green', '4 red'], ['8 green', '7 blue', '10 red']]\n",
      "\n",
      "Game #16  >>  [['12 red', '8 blue', '2 green'], ['4 green', '10 red', '4 blue'], ['9 green', '4 blue', '5 red'], ['7 red', '1 blue']]\n",
      "\n",
      "Game #17  >>  [['1 blue', '4 red', '6 green'], ['1 blue'], ['6 red', '8 blue', '10 green'], ['2 blue', '2 red', '3 green'], ['8 green', '14 red', '6 blue']]\n",
      "\n",
      "Game #18  >>  [['5 blue', '1 green', '5 red'], ['1 green', '11 blue'], ['3 green', '18 red', '8 blue']]\n",
      "\n",
      "Game #19  >>  [['2 blue', '2 red', '16 green'], ['5 blue', '2 red', '17 green'], ['10 green', '6 blue'], ['2 blue', '11 green'], ['15 green', '3 blue', '5 red'], ['18 green', '8 red']]\n",
      "\n",
      "Game #20  >>  [['7 red', '6 green', '3 blue'], ['7 red', '16 green'], ['1 blue', '6 green'], ['1 green', '7 red']]\n",
      "\n",
      "Game #21  >>  [['10 red', '10 blue'], ['16 green', '4 blue', '7 red'], ['2 red', '9 blue', '11 green']]\n",
      "\n",
      "Game #22  >>  [['12 green', '7 red', '2 blue'], ['6 blue', '3 red', '10 green'], ['11 red', '12 green', '3 blue'], ['8 red', '3 green', '3 blue'], ['3 red', '4 green', '7 blue']]\n",
      "\n",
      "Game #23  >>  [['7 red', '9 blue'], ['5 red', '1 green', '4 blue'], ['8 green', '9 blue', '10 red'], ['8 green', '9 red', '11 blue']]\n",
      "\n",
      "Game #24  >>  [['4 blue', '2 red', '15 green'], ['1 green', '4 blue'], ['7 green', '2 blue']]\n",
      "\n",
      "Game #25  >>  [['12 red', '12 green'], ['11 red', '5 blue', '15 green'], ['15 green', '5 red', '3 blue'], ['15 green', '6 blue', '10 red'], ['3 blue', '1 green', '5 red']]\n",
      "\n",
      "Game #26  >>  [['7 red', '18 green', '6 blue'], ['3 red', '2 green', '7 blue'], ['1 red', '1 green', '1 blue'], ['16 green', '5 red', '2 blue'], ['5 blue', '4 red'], ['12 red', '2 blue']]\n",
      "\n",
      "Game #27  >>  [['1 blue', '5 red', '5 green'], ['11 blue', '7 red', '5 green'], ['8 blue', '7 green', '4 red'], ['3 green', '3 blue'], ['14 green', '1 blue']]\n",
      "\n",
      "Game #28  >>  [['12 green', '1 red', '1 blue'], ['17 green', '1 red', '1 blue'], ['1 red', '1 blue', '15 green']]\n",
      "\n",
      "Game #29  >>  [['15 green', '10 blue'], ['6 green', '5 blue', '2 red'], ['19 green', '5 blue']]\n",
      "\n",
      "Game #30  >>  [['10 red', '13 green', '2 blue'], ['5 blue', '14 green', '1 red'], ['9 green', '14 red', '3 blue'], ['14 blue', '14 green', '17 red'], ['15 blue', '9 green', '16 red']]\n",
      "\n",
      "Game #31  >>  [['6 green', '1 blue', '8 red'], ['12 red', '8 green'], ['5 red', '8 green'], ['9 green', '11 red']]\n",
      "\n",
      "Game #32  >>  [['6 red', '7 green'], ['12 green', '1 blue', '2 red'], ['2 red', '3 green'], ['4 red', '13 green'], ['7 red', '9 green']]\n",
      "\n",
      "Game #33  >>  [['3 red', '7 blue', '10 green'], ['4 blue', '3 red', '15 green'], ['6 red', '7 blue', '18 green'], ['5 red', '10 green', '10 blue'], ['2 blue', '6 red', '10 green'], ['7 blue', '3 green', '6 red']]\n",
      "\n",
      "Game #34  >>  [['1 red', '6 blue', '3 green'], ['2 green', '13 blue', '2 red'], ['2 red', '7 green', '5 blue'], ['4 red', '2 blue', '5 green'], ['3 red', '4 blue', '3 green']]\n",
      "\n",
      "Game #35  >>  [['3 red', '4 blue'], ['3 green', '6 red', '2 blue'], ['8 green', '4 blue', '3 red'], ['11 red', '4 blue', '3 green'], ['5 green', '1 blue', '6 red'], ['8 red', '7 green']]\n",
      "\n",
      "Game #36  >>  [['2 blue', '8 red', '2 green'], ['11 green', '14 red'], ['14 red', '1 green'], ['7 green', '2 blue', '11 red']]\n",
      "\n",
      "Game #37  >>  [['2 green', '10 red'], ['1 green', '5 red'], ['5 red', '11 green'], ['1 blue', '11 green', '2 red']]\n",
      "\n",
      "Game #38  >>  [['11 red', '1 green', '11 blue'], ['9 red', '1 green'], ['5 red', '2 blue', '1 green'], ['2 red', '6 blue']]\n",
      "\n",
      "Game #39  >>  [['3 red'], ['2 green', '18 red', '2 blue'], ['2 green'], ['6 red', '2 green'], ['12 red'], ['3 green', '11 red']]\n",
      "\n",
      "Game #40  >>  [['3 blue', '4 red'], ['2 red'], ['7 red', '1 green', '2 blue'], ['1 green', '1 blue'], ['5 green'], ['2 green', '2 red', '1 blue']]\n",
      "\n",
      "Game #41  >>  [['5 green', '3 blue', '10 red'], ['6 green', '3 blue', '12 red'], ['2 blue', '5 green', '7 red'], ['2 blue', '3 green', '2 red']]\n",
      "\n",
      "Game #42  >>  [['11 green', '1 red'], ['6 green', '4 red'], ['4 red', '4 blue', '7 green'], ['11 green', '5 red', '5 blue']]\n",
      "\n",
      "Game #43  >>  [['1 blue'], ['6 green', '16 blue'], ['7 green', '1 red'], ['2 red', '15 green', '7 blue'], ['2 red', '16 green', '3 blue'], ['3 red', '14 blue']]\n",
      "\n",
      "Game #44  >>  [['3 green', '1 red', '5 blue'], ['9 blue', '1 red'], ['14 blue'], ['7 blue', '1 green', '2 red']]\n",
      "\n",
      "Game #45  >>  [['1 blue', '1 red'], ['1 blue', '1 red'], ['3 green', '1 red'], ['1 green', '1 blue']]\n",
      "\n",
      "Game #46  >>  [['1 green', '8 red', '2 blue'], ['13 blue', '7 red', '2 green'], ['3 red', '4 blue'], ['2 green', '18 blue', '5 red'], ['4 red', '5 green', '9 blue'], ['3 red', '7 blue', '1 green']]\n",
      "\n",
      "Game #47  >>  [['8 blue', '1 red', '8 green'], ['2 red', '6 green', '1 blue'], ['2 green', '6 blue', '5 red'], ['6 blue', '6 red', '6 green'], ['6 green', '9 blue', '7 red']]\n",
      "\n",
      "Game #48  >>  [['5 blue', '14 green', '8 red'], ['7 blue', '10 green', '7 red'], ['9 green', '9 blue', '6 red'], ['9 green', '5 blue', '17 red']]\n",
      "\n",
      "Game #49  >>  [['10 green', '6 blue', '2 red'], ['3 blue', '5 green', '4 red'], ['8 red', '8 blue', '11 green'], ['5 red', '6 green', '5 blue']]\n",
      "\n",
      "Game #50  >>  [['3 red', '2 green'], ['1 red', '8 blue'], ['2 red', '2 green', '3 blue']]\n",
      "\n",
      "Game #51  >>  [['4 green', '8 red'], ['8 red', '5 blue', '13 green'], ['3 red', '11 blue', '14 green'], ['5 blue', '11 green', '3 red'], ['5 red', '9 blue', '11 green'], ['6 green', '4 red', '12 blue']]\n",
      "\n",
      "Game #52  >>  [['2 green', '1 red', '1 blue'], ['3 blue', '2 green', '2 red'], ['1 green', '3 blue', '4 red'], ['2 blue'], ['8 red', '2 blue']]\n",
      "\n",
      "Game #53  >>  [['18 blue', '4 green', '9 red'], ['6 blue', '9 green'], ['14 blue', '9 green', '9 red']]\n",
      "\n",
      "Game #54  >>  [['2 red', '7 blue', '3 green'], ['6 green', '3 red', '2 blue'], ['1 blue', '3 green', '3 red'], ['2 green', '4 red', '9 blue']]\n",
      "\n",
      "Game #55  >>  [['3 green', '6 blue'], ['6 green', '8 blue', '6 red'], ['5 green', '3 red'], ['4 blue', '8 green', '1 red'], ['1 red', '2 blue']]\n",
      "\n",
      "Game #56  >>  [['4 green'], ['2 blue', '4 green', '1 red'], ['3 blue', '6 green']]\n",
      "\n",
      "Game #57  >>  [['15 red', '3 green'], ['15 red', '1 blue', '2 green'], ['15 red', '1 green']]\n",
      "\n",
      "Game #58  >>  [['1 red', '5 blue'], ['5 green'], ['6 green', '8 blue', '2 red'], ['1 red', '6 blue', '6 green']]\n",
      "\n",
      "Game #59  >>  [['3 green', '8 blue', '5 red'], ['1 green', '12 blue', '4 red'], ['2 green', '18 blue'], ['2 red', '4 green'], ['16 blue', '3 red', '1 green']]\n",
      "\n",
      "Game #60  >>  [['7 green', '6 blue', '2 red'], ['6 blue', '2 red', '4 green'], ['11 green', '5 blue'], ['4 green', '4 blue', '3 red'], ['2 red', '7 green', '8 blue'], ['6 green', '4 red', '1 blue']]\n",
      "\n",
      "Game #61  >>  [['6 green', '6 red'], ['1 green', '3 blue'], ['6 green', '1 red', '7 blue'], ['5 red', '19 green', '7 blue']]\n",
      "\n",
      "Game #62  >>  [['3 red', '4 green'], ['2 red', '4 blue'], ['1 red', '13 blue', '5 green']]\n",
      "\n",
      "Game #63  >>  [['2 red', '13 green', '4 blue'], ['10 green', '5 red', '10 blue'], ['13 blue', '6 red', '3 green']]\n",
      "\n",
      "Game #64  >>  [['5 blue', '2 green'], ['1 blue', '1 red', '6 green'], ['3 blue', '11 green'], ['2 blue', '8 green', '1 red']]\n",
      "\n",
      "Game #65  >>  [['4 red', '5 green', '2 blue'], ['2 blue', '4 red', '1 green'], ['3 red', '5 green', '4 blue'], ['6 red', '3 blue'], ['3 blue', '2 green', '5 red'], ['2 green', '3 red']]\n",
      "\n",
      "Game #66  >>  [['14 red', '17 green', '1 blue'], ['2 red', '12 green', '2 blue'], ['1 blue', '4 green', '14 red']]\n",
      "\n",
      "Game #67  >>  [['7 green', '4 red', '10 blue'], ['11 blue', '4 green'], ['7 green', '2 red', '3 blue'], ['11 blue', '3 red', '9 green']]\n",
      "\n",
      "Game #68  >>  [['5 blue', '4 red'], ['10 blue', '8 green', '5 red'], ['1 green', '1 red', '10 blue']]\n",
      "\n",
      "Game #69  >>  [['1 red', '15 blue', '2 green'], ['16 blue', '15 green'], ['1 red', '15 green', '14 blue'], ['2 red', '5 green', '11 blue'], ['5 green', '1 red', '13 blue'], ['2 blue', '16 green']]\n",
      "\n",
      "Game #70  >>  [['1 red', '2 blue', '9 green'], ['2 green', '1 red'], ['7 green', '4 blue']]\n",
      "\n",
      "Game #71  >>  [['5 blue', '1 green'], ['2 green', '5 blue'], ['2 blue', '1 red', '1 green'], ['1 red', '5 blue'], ['1 red']]\n",
      "\n",
      "Game #72  >>  [['5 green', '5 blue'], ['8 green', '3 red'], ['7 blue', '8 green']]\n",
      "\n",
      "Game #73  >>  [['1 green', '4 red', '3 blue'], ['5 green', '5 blue', '3 red'], ['8 blue', '7 green', '1 red'], ['3 blue', '3 red', '9 green'], ['13 green', '2 red', '10 blue']]\n",
      "\n",
      "Game #74  >>  [['2 red', '4 green', '5 blue'], ['3 blue', '6 green', '4 red'], ['2 blue', '6 green', '5 red']]\n",
      "\n",
      "Game #75  >>  [['10 red', '20 green', '14 blue'], ['9 blue', '15 green', '17 red'], ['8 green', '18 blue', '6 red']]\n",
      "\n",
      "Game #76  >>  [['7 green', '1 red', '9 blue'], ['1 green', '3 red'], ['3 red', '3 green'], ['4 blue', '20 red', '9 green'], ['12 red', '7 blue']]\n",
      "\n",
      "Game #77  >>  [['1 blue', '9 green', '7 red'], ['5 green', '7 red'], ['4 red', '1 green', '1 blue'], ['6 green', '3 red', '3 blue'], ['3 blue', '5 green', '18 red']]\n",
      "\n",
      "Game #78  >>  [['11 red', '4 green', '4 blue'], ['12 red', '3 green', '4 blue'], ['11 red', '4 green', '13 blue'], ['8 red', '5 blue', '6 green']]\n",
      "\n",
      "Game #79  >>  [['1 blue', '16 red'], ['9 red', '2 green', '2 blue'], ['2 blue', '12 red'], ['3 green', '12 red']]\n",
      "\n",
      "Game #80  >>  [['2 blue', '3 green', '5 red'], ['5 red', '8 blue', '3 green'], ['10 blue', '8 red', '8 green'], ['5 blue', '4 red']]\n",
      "\n",
      "Game #81  >>  [['1 green', '3 red'], ['6 blue'], ['6 red', '1 green', '8 blue'], ['1 green', '8 blue']]\n",
      "\n",
      "Game #82  >>  [['4 blue', '2 red'], ['7 blue', '10 green', '3 red'], ['7 green', '1 red']]\n",
      "\n",
      "Game #83  >>  [['12 blue', '9 green'], ['10 green', '7 blue'], ['7 green', '1 red', '12 blue'], ['5 green', '12 blue']]\n",
      "\n",
      "Game #84  >>  [['1 green', '2 blue', '1 red'], ['2 green', '9 red'], ['14 red', '1 blue', '2 green'], ['2 green', '9 red'], ['4 blue', '2 green', '9 red']]\n",
      "\n",
      "Game #85  >>  [['1 blue', '8 red', '8 green'], ['1 green', '4 red', '4 blue'], ['8 red', '7 green', '18 blue'], ['5 green', '3 red', '15 blue'], ['11 blue', '1 red', '4 green'], ['4 green', '3 red', '1 blue']]\n",
      "\n",
      "Game #86  >>  [['14 green', '11 red', '14 blue'], ['9 green', '14 blue'], ['12 red', '4 green', '13 blue'], ['14 green', '9 blue', '2 red'], ['5 red', '17 green', '1 blue']]\n",
      "\n",
      "Game #87  >>  [['3 red', '3 green', '7 blue'], ['3 green', '2 red', '20 blue'], ['12 green', '9 blue'], ['3 blue', '3 red', '8 green'], ['12 green', '9 blue', '2 red']]\n",
      "\n",
      "Game #88  >>  [['4 green', '1 red', '4 blue'], ['1 green', '3 red', '1 blue'], ['2 green', '3 blue', '3 red'], ['5 green', '1 blue']]\n",
      "\n",
      "Game #89  >>  [['8 blue', '1 red'], ['4 red', '6 blue', '1 green'], ['12 blue', '3 red'], ['1 red', '4 blue'], ['3 red', '5 blue', '1 green'], ['7 red', '7 blue']]\n",
      "\n",
      "Game #90  >>  [['3 red', '2 green'], ['4 blue', '13 red'], ['1 blue', '7 red']]\n",
      "\n",
      "Game #91  >>  [['8 blue', '2 red', '9 green'], ['5 blue', '17 green'], ['2 green', '7 blue', '1 red'], ['8 blue', '11 green', '3 red'], ['2 red', '5 blue', '1 green']]\n",
      "\n",
      "Game #92  >>  [['8 red', '11 blue'], ['7 green', '9 blue', '2 red'], ['6 red', '3 green', '3 blue'], ['4 green', '8 blue', '2 red'], ['9 blue', '12 green', '8 red'], ['6 red', '14 blue']]\n",
      "\n",
      "Game #93  >>  [['4 blue', '1 red', '3 green'], ['7 green', '1 red', '3 blue'], ['6 green', '1 red', '3 blue'], ['3 blue', '10 green', '1 red'], ['3 blue', '7 green']]\n",
      "\n",
      "Game #94  >>  [['11 red', '13 green', '3 blue'], ['4 green', '15 red', '5 blue'], ['1 red', '7 green']]\n",
      "\n",
      "Game #95  >>  [['4 green', '10 blue', '6 red'], ['4 green', '9 blue'], ['8 blue', '9 red', '5 green'], ['7 green', '12 blue'], ['12 blue', '8 green', '3 red'], ['2 green', '5 red']]\n",
      "\n",
      "Game #96  >>  [['2 red', '2 green', '1 blue'], ['1 red', '4 green'], ['1 green']]\n",
      "\n",
      "Game #97  >>  [['4 red', '5 green'], ['5 blue', '3 red'], ['8 blue', '2 green', '1 red']]\n",
      "\n",
      "Game #98  >>  [['1 blue'], ['2 green', '1 red'], ['5 red', '2 green'], ['4 red', '1 green'], ['2 red', '2 green', '2 blue']]\n",
      "\n",
      "Game #99  >>  [['6 blue', '5 red', '2 green'], ['9 red', '1 blue'], ['2 green', '2 red', '5 blue'], ['10 blue', '2 green'], ['11 blue', '1 green', '4 red']]\n",
      "\n",
      "Game #100  >>  [['1 blue', '13 green', '14 red'], ['11 green', '11 blue', '7 red'], ['2 red', '1 blue', '2 green'], ['10 blue', '15 red']]\n",
      "\n"
     ]
    }
   ],
   "source": [
    "for i, x in enumerate(data):\n",
    "    y = x[x.find(\": \") + 2:]\n",
    "    z = y.split(\"; \")\n",
    "    w = [a.split(\", \") for a in z]\n",
    "\n",
    "    print(f\"Game #{i+1}  >>  {w}\", end='\\n\\n')"
   ]
  },
  {
   "cell_type": "markdown",
   "id": "9b6e1d65",
   "metadata": {},
   "source": [
    "### Part 1 _Solution_"
   ]
  },
  {
   "cell_type": "code",
   "execution_count": 10,
   "id": "1bae7682",
   "metadata": {},
   "outputs": [],
   "source": [
    "ans1 = 0\n",
    "for i, x in enumerate(data):                    # Iterating through EACH game ...\n",
    "    y = x[x.find(\": \") + 2:]\n",
    "    z = y.split(\"; \")\n",
    "    w = [a.split(\", \") for a in z]\n",
    "\n",
    "    flag = True\n",
    "    for v in w:                                 # Iterating through EACH subset of EACH game ...\n",
    "        count = {}\n",
    "        \n",
    "        for u in v:                             # Iterating through EACH count of colored ball ...\n",
    "            v, k = u.strip().split(\" \")\n",
    "            count[k] = int(v)\n",
    "        \n",
    "        if \"red\" in count and count[\"red\"] > 12:\n",
    "            flag = False\n",
    "            break\n",
    "        if \"green\" in count and count[\"green\"] > 13:\n",
    "            flag = False\n",
    "            break\n",
    "        if \"blue\" in count and count[\"blue\"] > 14:\n",
    "            flag = False\n",
    "            break\n",
    "    \n",
    "    if flag:\n",
    "        ans1 += i + 1"
   ]
  },
  {
   "cell_type": "code",
   "execution_count": 11,
   "id": "3ab93983",
   "metadata": {},
   "outputs": [
    {
     "data": {
      "text/plain": [
       "3035"
      ]
     },
     "execution_count": 11,
     "metadata": {},
     "output_type": "execute_result"
    }
   ],
   "source": [
    "ans1"
   ]
  },
  {
   "cell_type": "markdown",
   "id": "4d34d2ea",
   "metadata": {},
   "source": [
    "### Part 2 _Solution_"
   ]
  },
  {
   "cell_type": "code",
   "execution_count": 9,
   "id": "15faece7",
   "metadata": {},
   "outputs": [],
   "source": [
    "ans2 = 0\n",
    "for i, x in enumerate(data):\n",
    "    y = x[x.find(\": \") + 2:]\n",
    "    z = y.split(\"; \")\n",
    "    w = [a.split(\", \") for a in z]\n",
    "\n",
    "    flag = True\n",
    "    minr, ming, minb = 0, 0, 0\n",
    "    \n",
    "    for v in w:\n",
    "        count = {}\n",
    "        \n",
    "        for u in v:\n",
    "            v, k = u.strip().split(\" \")\n",
    "            count[k] = int(v)\n",
    "        \n",
    "        minr = max(minr, count[\"red\"] if \"red\" in count else 0)\n",
    "        ming = max(ming, count[\"green\"] if \"green\" in count else 0)\n",
    "        minb = max(minb, count[\"blue\"] if \"blue\" in count else 0)\n",
    "    \n",
    "    ans2 += minr * ming * minb"
   ]
  },
  {
   "cell_type": "code",
   "execution_count": 8,
   "id": "330c5333",
   "metadata": {},
   "outputs": [
    {
     "data": {
      "text/plain": [
       "66027"
      ]
     },
     "execution_count": 8,
     "metadata": {},
     "output_type": "execute_result"
    }
   ],
   "source": [
    "ans2"
   ]
  }
 ],
 "metadata": {
  "kernelspec": {
   "display_name": "Python 3 (ipykernel)",
   "language": "python",
   "name": "python3"
  },
  "language_info": {
   "codemirror_mode": {
    "name": "ipython",
    "version": 3
   },
   "file_extension": ".py",
   "mimetype": "text/x-python",
   "name": "python",
   "nbconvert_exporter": "python",
   "pygments_lexer": "ipython3",
   "version": "3.11.5"
  }
 },
 "nbformat": 4,
 "nbformat_minor": 5
}
